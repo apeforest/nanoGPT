{
  "nbformat": 4,
  "nbformat_minor": 0,
  "metadata": {
    "colab": {
      "provenance": [],
      "authorship_tag": "ABX9TyPNiRkOQMG3PqDiQpJVy7CC",
      "include_colab_link": true
    },
    "kernelspec": {
      "name": "python3",
      "display_name": "Python 3"
    },
    "language_info": {
      "name": "python"
    }
  },
  "cells": [
    {
      "cell_type": "markdown",
      "metadata": {
        "id": "view-in-github",
        "colab_type": "text"
      },
      "source": [
        "<a href=\"https://colab.research.google.com/github/apeforest/nanoGPT/blob/master/gpt_dev_jax0.ipynb\" target=\"_parent\"><img src=\"https://colab.research.google.com/assets/colab-badge.svg\" alt=\"Open In Colab\"/></a>"
      ]
    },
    {
      "cell_type": "markdown",
      "source": [
        "*Building* a NanoGPT example using JAX (based on the PyTorch version from https://github.com/karpathy/nanoGPT)"
      ],
      "metadata": {
        "id": "pbtWe6--wljq"
      }
    },
    {
      "cell_type": "code",
      "source": [
        "# We always start with a dataset to train on. Let's download the tiny shakespeare dataset\n",
        "!wget https://raw.githubusercontent.com/karpathy/char-rnn/master/data/tinyshakespeare/input.txt"
      ],
      "metadata": {
        "colab": {
          "base_uri": "https://localhost:8080/"
        },
        "id": "3XqPEY38wmEC",
        "outputId": "dcdf413a-a42b-4d2b-cdb2-08345dc24eb9"
      },
      "execution_count": 1,
      "outputs": [
        {
          "output_type": "stream",
          "name": "stdout",
          "text": [
            "--2023-05-26 21:51:40--  https://raw.githubusercontent.com/karpathy/char-rnn/master/data/tinyshakespeare/input.txt\n",
            "Resolving raw.githubusercontent.com (raw.githubusercontent.com)... 185.199.108.133, 185.199.109.133, 185.199.110.133, ...\n",
            "Connecting to raw.githubusercontent.com (raw.githubusercontent.com)|185.199.108.133|:443... connected.\n",
            "HTTP request sent, awaiting response... 200 OK\n",
            "Length: 1115394 (1.1M) [text/plain]\n",
            "Saving to: ‘input.txt’\n",
            "\n",
            "\rinput.txt             0%[                    ]       0  --.-KB/s               \rinput.txt           100%[===================>]   1.06M  --.-KB/s    in 0.03s   \n",
            "\n",
            "2023-05-26 21:51:40 (39.8 MB/s) - ‘input.txt’ saved [1115394/1115394]\n",
            "\n"
          ]
        }
      ]
    },
    {
      "cell_type": "code",
      "source": [
        "# read it in to inspect it\n",
        "with open('input.txt', 'r', encoding='utf-8') as f:\n",
        "    text = f.read()"
      ],
      "metadata": {
        "id": "JMLSnkAcwny6"
      },
      "execution_count": null,
      "outputs": []
    },
    {
      "cell_type": "code",
      "source": [
        "print(\"length of dataset in characters: \", len(text))"
      ],
      "metadata": {
        "colab": {
          "base_uri": "https://localhost:8080/"
        },
        "id": "vj0_WmCWwpoy",
        "outputId": "2dbbd497-4b55-4c7c-bc55-ebf3402921d2"
      },
      "execution_count": null,
      "outputs": [
        {
          "output_type": "stream",
          "name": "stdout",
          "text": [
            "length of dataset in characters:  1115394\n"
          ]
        }
      ]
    },
    {
      "cell_type": "code",
      "source": [
        "# let's look at the first 1000 characters\n",
        "print(text[:1000])"
      ],
      "metadata": {
        "colab": {
          "base_uri": "https://localhost:8080/"
        },
        "id": "Hn6NsdNKwrLr",
        "outputId": "2e21b6ed-c326-4c13-c544-6f9bf63cbb20"
      },
      "execution_count": null,
      "outputs": [
        {
          "output_type": "stream",
          "name": "stdout",
          "text": [
            "First Citizen:\n",
            "Before we proceed any further, hear me speak.\n",
            "\n",
            "All:\n",
            "Speak, speak.\n",
            "\n",
            "First Citizen:\n",
            "You are all resolved rather to die than to famish?\n",
            "\n",
            "All:\n",
            "Resolved. resolved.\n",
            "\n",
            "First Citizen:\n",
            "First, you know Caius Marcius is chief enemy to the people.\n",
            "\n",
            "All:\n",
            "We know't, we know't.\n",
            "\n",
            "First Citizen:\n",
            "Let us kill him, and we'll have corn at our own price.\n",
            "Is't a verdict?\n",
            "\n",
            "All:\n",
            "No more talking on't; let it be done: away, away!\n",
            "\n",
            "Second Citizen:\n",
            "One word, good citizens.\n",
            "\n",
            "First Citizen:\n",
            "We are accounted poor citizens, the patricians good.\n",
            "What authority surfeits on would relieve us: if they\n",
            "would yield us but the superfluity, while it were\n",
            "wholesome, we might guess they relieved us humanely;\n",
            "but they think we are too dear: the leanness that\n",
            "afflicts us, the object of our misery, is as an\n",
            "inventory to particularise their abundance; our\n",
            "sufferance is a gain to them Let us revenge this with\n",
            "our pikes, ere we become rakes: for the gods know I\n",
            "speak this in hunger for bread, not in thirst for revenge.\n",
            "\n",
            "\n"
          ]
        }
      ]
    },
    {
      "cell_type": "code",
      "source": [
        "chars = sorted(list(set(text)))\n",
        "vocab_size = len(chars)\n",
        "print(''.join(chars))\n",
        "print(vocab_size)"
      ],
      "metadata": {
        "colab": {
          "base_uri": "https://localhost:8080/"
        },
        "id": "CBSLs-03ww5B",
        "outputId": "66e9f727-45a1-430b-bb98-b8ff189fdaba"
      },
      "execution_count": null,
      "outputs": [
        {
          "output_type": "stream",
          "name": "stdout",
          "text": [
            "\n",
            " !$&',-.3:;?ABCDEFGHIJKLMNOPQRSTUVWXYZabcdefghijklmnopqrstuvwxyz\n",
            "65\n"
          ]
        }
      ]
    },
    {
      "cell_type": "code",
      "source": [
        "# create a mapping from characters to integers\n",
        "stoi = { ch:i for i,ch in enumerate(chars) }\n",
        "itos = { i:ch for i,ch in enumerate(chars) }\n",
        "encode = lambda s: [stoi[c] for c in s] # encoder: take a string, output a list of integers\n",
        "decode = lambda l: ''.join([itos[i] for i in l]) # decoder: take a list of integers, output a string\n",
        "\n",
        "print(encode(\"hii there\"))\n",
        "print(decode(encode(\"hii there\")))"
      ],
      "metadata": {
        "colab": {
          "base_uri": "https://localhost:8080/"
        },
        "id": "dC5hWNM8x3hf",
        "outputId": "55bc7538-332f-48ac-eac2-acadf61b434d"
      },
      "execution_count": null,
      "outputs": [
        {
          "output_type": "stream",
          "name": "stdout",
          "text": [
            "[46, 47, 47, 1, 58, 46, 43, 56, 43]\n",
            "hii there\n"
          ]
        }
      ]
    },
    {
      "cell_type": "code",
      "source": [
        "# let's now encode the entire text dataset and store it into a jnp array\n",
        "import jax.numpy as jnp\n",
        "import jax\n",
        "import numpy as np\n",
        "\n",
        "jax.config.update(\"jax_enable_x64\", True)\n",
        "\n",
        "data = jnp.array(encode(text), dtype=jnp.int64)\n",
        "print(data.shape, data.dtype)\n",
        "print(data[:1000]) # the 1000 characters we looked at earier will to the GPT look like this"
      ],
      "metadata": {
        "colab": {
          "base_uri": "https://localhost:8080/"
        },
        "id": "JqUC_Ck6x5a4",
        "outputId": "02596d59-3efa-410c-df4e-980cb44e9c11"
      },
      "execution_count": null,
      "outputs": [
        {
          "output_type": "stream",
          "name": "stderr",
          "text": [
            "WARNING:jax._src.xla_bridge:No GPU/TPU found, falling back to CPU. (Set TF_CPP_MIN_LOG_LEVEL=0 and rerun for more info.)\n"
          ]
        },
        {
          "output_type": "stream",
          "name": "stdout",
          "text": [
            "(1115394,) int64\n",
            "[18 47 56 57 58  1 15 47 58 47 64 43 52 10  0 14 43 44 53 56 43  1 61 43\n",
            "  1 54 56 53 41 43 43 42  1 39 52 63  1 44 59 56 58 46 43 56  6  1 46 43\n",
            " 39 56  1 51 43  1 57 54 43 39 49  8  0  0 13 50 50 10  0 31 54 43 39 49\n",
            "  6  1 57 54 43 39 49  8  0  0 18 47 56 57 58  1 15 47 58 47 64 43 52 10\n",
            "  0 37 53 59  1 39 56 43  1 39 50 50  1 56 43 57 53 50 60 43 42  1 56 39\n",
            " 58 46 43 56  1 58 53  1 42 47 43  1 58 46 39 52  1 58 53  1 44 39 51 47\n",
            " 57 46 12  0  0 13 50 50 10  0 30 43 57 53 50 60 43 42  8  1 56 43 57 53\n",
            " 50 60 43 42  8  0  0 18 47 56 57 58  1 15 47 58 47 64 43 52 10  0 18 47\n",
            " 56 57 58  6  1 63 53 59  1 49 52 53 61  1 15 39 47 59 57  1 25 39 56 41\n",
            " 47 59 57  1 47 57  1 41 46 47 43 44  1 43 52 43 51 63  1 58 53  1 58 46\n",
            " 43  1 54 43 53 54 50 43  8  0  0 13 50 50 10  0 35 43  1 49 52 53 61  5\n",
            " 58  6  1 61 43  1 49 52 53 61  5 58  8  0  0 18 47 56 57 58  1 15 47 58\n",
            " 47 64 43 52 10  0 24 43 58  1 59 57  1 49 47 50 50  1 46 47 51  6  1 39\n",
            " 52 42  1 61 43  5 50 50  1 46 39 60 43  1 41 53 56 52  1 39 58  1 53 59\n",
            " 56  1 53 61 52  1 54 56 47 41 43  8  0 21 57  5 58  1 39  1 60 43 56 42\n",
            " 47 41 58 12  0  0 13 50 50 10  0 26 53  1 51 53 56 43  1 58 39 50 49 47\n",
            " 52 45  1 53 52  5 58 11  1 50 43 58  1 47 58  1 40 43  1 42 53 52 43 10\n",
            "  1 39 61 39 63  6  1 39 61 39 63  2  0  0 31 43 41 53 52 42  1 15 47 58\n",
            " 47 64 43 52 10  0 27 52 43  1 61 53 56 42  6  1 45 53 53 42  1 41 47 58\n",
            " 47 64 43 52 57  8  0  0 18 47 56 57 58  1 15 47 58 47 64 43 52 10  0 35\n",
            " 43  1 39 56 43  1 39 41 41 53 59 52 58 43 42  1 54 53 53 56  1 41 47 58\n",
            " 47 64 43 52 57  6  1 58 46 43  1 54 39 58 56 47 41 47 39 52 57  1 45 53\n",
            " 53 42  8  0 35 46 39 58  1 39 59 58 46 53 56 47 58 63  1 57 59 56 44 43\n",
            " 47 58 57  1 53 52  1 61 53 59 50 42  1 56 43 50 47 43 60 43  1 59 57 10\n",
            "  1 47 44  1 58 46 43 63  0 61 53 59 50 42  1 63 47 43 50 42  1 59 57  1\n",
            " 40 59 58  1 58 46 43  1 57 59 54 43 56 44 50 59 47 58 63  6  1 61 46 47\n",
            " 50 43  1 47 58  1 61 43 56 43  0 61 46 53 50 43 57 53 51 43  6  1 61 43\n",
            "  1 51 47 45 46 58  1 45 59 43 57 57  1 58 46 43 63  1 56 43 50 47 43 60\n",
            " 43 42  1 59 57  1 46 59 51 39 52 43 50 63 11  0 40 59 58  1 58 46 43 63\n",
            "  1 58 46 47 52 49  1 61 43  1 39 56 43  1 58 53 53  1 42 43 39 56 10  1\n",
            " 58 46 43  1 50 43 39 52 52 43 57 57  1 58 46 39 58  0 39 44 44 50 47 41\n",
            " 58 57  1 59 57  6  1 58 46 43  1 53 40 48 43 41 58  1 53 44  1 53 59 56\n",
            "  1 51 47 57 43 56 63  6  1 47 57  1 39 57  1 39 52  0 47 52 60 43 52 58\n",
            " 53 56 63  1 58 53  1 54 39 56 58 47 41 59 50 39 56 47 57 43  1 58 46 43\n",
            " 47 56  1 39 40 59 52 42 39 52 41 43 11  1 53 59 56  0 57 59 44 44 43 56\n",
            " 39 52 41 43  1 47 57  1 39  1 45 39 47 52  1 58 53  1 58 46 43 51  1 24\n",
            " 43 58  1 59 57  1 56 43 60 43 52 45 43  1 58 46 47 57  1 61 47 58 46  0\n",
            " 53 59 56  1 54 47 49 43 57  6  1 43 56 43  1 61 43  1 40 43 41 53 51 43\n",
            "  1 56 39 49 43 57 10  1 44 53 56  1 58 46 43  1 45 53 42 57  1 49 52 53\n",
            " 61  1 21  0 57 54 43 39 49  1 58 46 47 57  1 47 52  1 46 59 52 45 43 56\n",
            "  1 44 53 56  1 40 56 43 39 42  6  1 52 53 58  1 47 52  1 58 46 47 56 57\n",
            " 58  1 44 53 56  1 56 43 60 43 52 45 43  8  0  0]\n"
          ]
        }
      ]
    },
    {
      "cell_type": "code",
      "source": [
        "# Let's now split up the data into train and validation sets\n",
        "n = int(0.9*len(data)) # first 90% will be train, rest val\n",
        "train_data = data[:n]\n",
        "val_data = data[n:]"
      ],
      "metadata": {
        "id": "vpzM0KLl4Hx_"
      },
      "execution_count": null,
      "outputs": []
    },
    {
      "cell_type": "code",
      "source": [
        "block_size = 8\n",
        "train_data[:block_size+1]"
      ],
      "metadata": {
        "colab": {
          "base_uri": "https://localhost:8080/"
        },
        "id": "4OBB9NdD5z4r",
        "outputId": "838a2265-8395-48f6-96b5-748d5f046ee2"
      },
      "execution_count": null,
      "outputs": [
        {
          "output_type": "execute_result",
          "data": {
            "text/plain": [
              "Array([18, 47, 56, 57, 58,  1, 15, 47, 58], dtype=int64)"
            ]
          },
          "metadata": {},
          "execution_count": 9
        }
      ]
    },
    {
      "cell_type": "code",
      "source": [
        "x = train_data[:block_size]\n",
        "y = train_data[1:block_size+1]\n",
        "for t in range(block_size):\n",
        "    context = x[:t+1]\n",
        "    target = y[t]\n",
        "    print(f\"when input is {context} the target: {target}\")"
      ],
      "metadata": {
        "colab": {
          "base_uri": "https://localhost:8080/"
        },
        "id": "CZQlJBQp51t9",
        "outputId": "ca1eec38-e404-423f-d016-cc4e9ebfaafb"
      },
      "execution_count": null,
      "outputs": [
        {
          "output_type": "stream",
          "name": "stdout",
          "text": [
            "when input is [18] the target: 47\n",
            "when input is [18 47] the target: 56\n",
            "when input is [18 47 56] the target: 57\n",
            "when input is [18 47 56 57] the target: 58\n",
            "when input is [18 47 56 57 58] the target: 1\n",
            "when input is [18 47 56 57 58  1] the target: 15\n",
            "when input is [18 47 56 57 58  1 15] the target: 47\n",
            "when input is [18 47 56 57 58  1 15 47] the target: 58\n"
          ]
        }
      ]
    },
    {
      "cell_type": "code",
      "source": [
        "from jax import random\n",
        "key = random.PRNGKey(42)\n",
        "batch_size = 4 # how many independent sequences will we process in parallel?\n",
        "block_size = 8 # what is the maximum context length for predictions?\n",
        "\n",
        "def get_batch(split):\n",
        "    # generate a small batch of data of inputs x and targets y\n",
        "    data = train_data if split == 'train' else val_data\n",
        "    ix = random.randint(key, (batch_size, ), 0, len(data) - block_size)\n",
        "    x = jnp.stack([data[i:i+block_size] for i in ix])\n",
        "    y = jnp.stack([data[i+1:i+block_size+1] for i in ix])\n",
        "    return x, y\n",
        "\n",
        "xb, yb = get_batch('train')\n",
        "print('inputs:')\n",
        "print(xb.shape)\n",
        "print(xb)\n",
        "print('targets:')\n",
        "print(yb.shape)\n",
        "print(yb)\n",
        "\n",
        "print('----')\n",
        "\n",
        "for b in range(batch_size): # batch dimension\n",
        "    for t in range(block_size): # time dimension\n",
        "        context = xb[b, :t+1]\n",
        "        target = yb[b,t]\n",
        "        print(f\"when input is {context.tolist()} the target: {target}\")"
      ],
      "metadata": {
        "colab": {
          "base_uri": "https://localhost:8080/"
        },
        "id": "0-I_tIoT5-VV",
        "outputId": "36924aa6-2c11-4806-a159-2df92fa6cd2e"
      },
      "execution_count": null,
      "outputs": [
        {
          "output_type": "stream",
          "name": "stdout",
          "text": [
            "inputs:\n",
            "(4, 8)\n",
            "[[ 0  5 18 53 56 43  1 63]\n",
            " [ 1 46 47 51  0 32 53  1]\n",
            " [ 1 46 43 56  0 33 52 58]\n",
            " [36 17 32 17 30 10  0 20]]\n",
            "targets:\n",
            "(4, 8)\n",
            "[[ 5 18 53 56 43  1 63 53]\n",
            " [46 47 51  0 32 53  1 46]\n",
            " [46 43 56  0 33 52 58 47]\n",
            " [17 32 17 30 10  0 20 43]]\n",
            "----\n",
            "when input is [0] the target: 5\n",
            "when input is [0, 5] the target: 18\n",
            "when input is [0, 5, 18] the target: 53\n",
            "when input is [0, 5, 18, 53] the target: 56\n",
            "when input is [0, 5, 18, 53, 56] the target: 43\n",
            "when input is [0, 5, 18, 53, 56, 43] the target: 1\n",
            "when input is [0, 5, 18, 53, 56, 43, 1] the target: 63\n",
            "when input is [0, 5, 18, 53, 56, 43, 1, 63] the target: 53\n",
            "when input is [1] the target: 46\n",
            "when input is [1, 46] the target: 47\n",
            "when input is [1, 46, 47] the target: 51\n",
            "when input is [1, 46, 47, 51] the target: 0\n",
            "when input is [1, 46, 47, 51, 0] the target: 32\n",
            "when input is [1, 46, 47, 51, 0, 32] the target: 53\n",
            "when input is [1, 46, 47, 51, 0, 32, 53] the target: 1\n",
            "when input is [1, 46, 47, 51, 0, 32, 53, 1] the target: 46\n",
            "when input is [1] the target: 46\n",
            "when input is [1, 46] the target: 43\n",
            "when input is [1, 46, 43] the target: 56\n",
            "when input is [1, 46, 43, 56] the target: 0\n",
            "when input is [1, 46, 43, 56, 0] the target: 33\n",
            "when input is [1, 46, 43, 56, 0, 33] the target: 52\n",
            "when input is [1, 46, 43, 56, 0, 33, 52] the target: 58\n",
            "when input is [1, 46, 43, 56, 0, 33, 52, 58] the target: 47\n",
            "when input is [36] the target: 17\n",
            "when input is [36, 17] the target: 32\n",
            "when input is [36, 17, 32] the target: 17\n",
            "when input is [36, 17, 32, 17] the target: 30\n",
            "when input is [36, 17, 32, 17, 30] the target: 10\n",
            "when input is [36, 17, 32, 17, 30, 10] the target: 0\n",
            "when input is [36, 17, 32, 17, 30, 10, 0] the target: 20\n",
            "when input is [36, 17, 32, 17, 30, 10, 0, 20] the target: 43\n"
          ]
        }
      ]
    },
    {
      "cell_type": "code",
      "source": [
        "print(xb) # our input to the transformer"
      ],
      "metadata": {
        "colab": {
          "base_uri": "https://localhost:8080/"
        },
        "id": "iJ-nKqBzPNwy",
        "outputId": "586c8c17-05f8-4412-fae3-683261913127"
      },
      "execution_count": null,
      "outputs": [
        {
          "output_type": "stream",
          "name": "stdout",
          "text": [
            "[[ 0  5 18 53 56 43  1 63]\n",
            " [ 1 46 47 51  0 32 53  1]\n",
            " [ 1 46 43 56  0 33 52 58]\n",
            " [36 17 32 17 30 10  0 20]]\n"
          ]
        }
      ]
    },
    {
      "cell_type": "code",
      "source": [
        "from flax.core.frozen_dict import V\n",
        "import flax.linen as nn\n",
        "import optax\n",
        "\n",
        "def cross_entropy(y, label):\n",
        "  log_p = jax.nn.log_softmax(y)\n",
        "\n",
        "  m = label.shape[0]\n",
        "  # This is equivalent to converting label into one-hot and sum\n",
        "  log_likelihood = -log_p[jnp.arange(m), label]\n",
        "  return jnp.mean(log_likelihood)\n",
        "\n",
        "\n",
        "class BigramLanguageModel(nn.Module):\n",
        "    vocab_size: int\n",
        "\n",
        "    def setup(self):\n",
        "        # each token directly reads off the logits for the next token from a lookup table\n",
        "        self.token_embedding_table = nn.Embed(vocab_size, vocab_size)\n",
        "\n",
        "    def __call__(self, idx):\n",
        "\n",
        "        # idx are (B, T) tensor of integers, C is vocab_size here.\n",
        "        logits = self.token_embedding_table(idx) # (B,T,C)\n",
        "\n",
        "        return logits\n",
        "\n",
        "\n",
        "def loss_fn(logits, label):\n",
        "    B, T, C = logits.shape\n",
        "    y = jnp.reshape(logits, ((B * T), C)) # (B, T, C) ->\n",
        "    loss = cross_entropy(y, jnp.reshape(label, (y.shape[0],)))\n",
        "    return loss\n",
        "\n",
        "def multinomial(key, input, num_samples, replacement=False):\n",
        "    # input: Tensor of shape (batch_size, num_categories) containing the probabilities for each category\n",
        "    # num_samples: The number of samples to draw for each batch\n",
        "    # replacement: Whether to sample with replacement or not\n",
        "\n",
        "    batch_size, num_categories = input.shape\n",
        "\n",
        "    # Transform input to log probabilities\n",
        "    log_probs = jnp.log(input)\n",
        "\n",
        "    # Generate random samples\n",
        "    samples = jax.random.categorical(key, log_probs, axis=-1)\n",
        "\n",
        "    # If replacement is False, we need to ensure unique samples within each batch\n",
        "    if not replacement:\n",
        "        unique_samples = jnp.unique(samples, axis=-1, return_counts=True)\n",
        "        repeated_indices = unique_samples[1] > 1\n",
        "        while jnp.any(repeated_indices):\n",
        "            # Replace repeated samples with new samples\n",
        "            new_samples = jax.random.categorical(key, log_probs, jnp.sum(repeated_indices), axis=-1)\n",
        "            samples = jnp.where(repeated_indices[:, jnp.newaxis], new_samples, samples)\n",
        "\n",
        "            unique_samples = jnp.unique(samples, axis=-1, return_counts=True)\n",
        "            repeated_indices = unique_samples[1] > 1\n",
        "\n",
        "    return jnp.expand_dims(samples, 1)\n",
        "\n",
        "def generate(model, params, idx, max_new_tokens):\n",
        "    # idx is (B, T) array of indices in the current context\n",
        "    key = random.PRNGKey(42)\n",
        "    for _ in range(max_new_tokens):\n",
        "        # get the predictions\n",
        "        logits = model.apply(params, idx)\n",
        "        # focus only on the last time step\n",
        "        logits = logits[:, -1, :] # becomes (B, C)\n",
        "\n",
        "        # apply softmax to get probabilities\n",
        "        probs = jax.nn.softmax(logits, axis=-1) # (B, C)\n",
        "        # sample from the distribution\n",
        "        key, subkey = random.split(key)\n",
        "\n",
        "        idx_next = multinomial(key, probs, num_samples=1) # (B, 1)\n",
        "\n",
        "        # append sampled index to the running sequence\n",
        "        idx = jnp.concatenate((idx, idx_next), axis=1) # (B, T+1)\n",
        "    return idx\n",
        "\n",
        "\n",
        "m = BigramLanguageModel(vocab_size)\n",
        "params = m.init(key, jnp.zeros((vocab_size, vocab_size), dtype=jnp.int64)) # Initialization call\n",
        "\n",
        "# Check the parameters\n",
        "jax.tree_map(lambda x: x.shape, params)\n",
        "\n",
        "logits = m.apply(params, xb)\n",
        "\n",
        "print(f'{logits.shape=}')\n",
        "\n",
        "loss = loss_fn(logits, yb)\n",
        "print(f'{loss=}')\n",
        "\n",
        "\n",
        "idx = generate(m, params, jnp.zeros((1, 1), dtype=jnp.int64), max_new_tokens=100)\n",
        "print(idx)\n",
        "print(decode(generate(m, params, idx = jnp.zeros((1, 1), dtype=jnp.int64), max_new_tokens=100)[0].tolist()))\n"
      ],
      "metadata": {
        "colab": {
          "base_uri": "https://localhost:8080/"
        },
        "id": "1SxnzFt8SD5K",
        "outputId": "a0a55a88-a6b2-4ee9-d63d-fa05e67bdb24"
      },
      "execution_count": null,
      "outputs": [
        {
          "output_type": "stream",
          "name": "stdout",
          "text": [
            "logits.shape=(4, 8, 65)\n",
            "loss=Array(4.1609755, dtype=float32)\n",
            "[[ 0 34  3  8 27 25 12 44 54 13 45 40 20  3 37 46 38 34 63  9 37 34 16 35\n",
            "  34 32 54 23  5 57 48 21 15 11 63 26 48 35  0 62 13 11 60  8 43 29 57 28\n",
            "  24 33  7 43  4 23 50 16 42 44  9 17 51  7 27 48 23 20 32 62  5 18 38 54\n",
            "  17 11 61 40 34 21 52 22 14 59 38 47  8 31 41 33 31 36  5 22 48 34 39 10\n",
            "  29 13 36 35 63]]\n",
            "\n",
            "V$.OM?fpAgbH$YhZVy3YVDWVTpK'sjIC;yNjW\n",
            "xA;v.eQsPLU-e&KlDdf3Em-OjKHTx'FZpE;wbVInJBuZi.ScUSX'JjVa:QAXWy\n"
          ]
        }
      ]
    },
    {
      "cell_type": "code",
      "source": [],
      "metadata": {
        "id": "53olS8iHVxFZ"
      },
      "execution_count": null,
      "outputs": []
    }
  ]
}